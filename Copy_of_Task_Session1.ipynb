{
  "cells": [
    {
      "cell_type": "markdown",
      "metadata": {
        "id": "view-in-github",
        "colab_type": "text"
      },
      "source": [
        "<a href=\"https://colab.research.google.com/github/farhasaied/tasks/blob/main/Copy_of_Task_Session1.ipynb\" target=\"_parent\"><img src=\"https://colab.research.google.com/assets/colab-badge.svg\" alt=\"Open In Colab\"/></a>"
      ]
    },
    {
      "cell_type": "markdown",
      "id": "2e6129a7",
      "metadata": {
        "id": "2e6129a7"
      },
      "source": [
        "## WAP to enter a number from user and print its absolute value.*"
      ]
    },
    {
      "cell_type": "code",
      "execution_count": null,
      "id": "1a2b81cb",
      "metadata": {
        "id": "1a2b81cb",
        "colab": {
          "base_uri": "https://localhost:8080/"
        },
        "outputId": "8be35be8-8449-49ea-c0df-5b30a26003f2"
      },
      "outputs": [
        {
          "output_type": "stream",
          "name": "stdout",
          "text": [
            "please enter your number3\n",
            "3\n"
          ]
        }
      ],
      "source": [
        "n = int(input(\"please enter your number\"))\n",
        "if n >0:\n",
        "    print(n)\n",
        "else:\n",
        "    print(n*-1)\n"
      ]
    },
    {
      "cell_type": "markdown",
      "id": "6e4c5e8e",
      "metadata": {
        "id": "6e4c5e8e"
      },
      "source": [
        "##  WAP to enter a year from user and check if it is leap year of not."
      ]
    },
    {
      "cell_type": "code",
      "execution_count": null,
      "id": "98f7d9fc",
      "metadata": {
        "id": "98f7d9fc",
        "colab": {
          "base_uri": "https://localhost:8080/"
        },
        "outputId": "5170eb2b-a6bb-4aed-ee19-9050e87ca467"
      },
      "outputs": [
        {
          "output_type": "stream",
          "name": "stdout",
          "text": [
            "please enter a year 2005\n",
            "not leab year\n"
          ]
        }
      ],
      "source": [
        "y = int(input(\"please enter a year \"))\n",
        "if y % 4 == 0 and y % 100 != 0:\n",
        "     print(\"leab year\")\n",
        "elif y % 400 == 0:\n",
        "\n",
        "     print(\"leab year\")\n",
        "else:\n",
        "     print(\"not leab year\")"
      ]
    },
    {
      "cell_type": "markdown",
      "id": "30b689c8",
      "metadata": {
        "id": "30b689c8"
      },
      "source": [
        "## WAP to enter the age of 3 person and print oldest and yougest among them."
      ]
    },
    {
      "cell_type": "code",
      "source": [],
      "metadata": {
        "id": "4bcIDKx_vl_4"
      },
      "id": "4bcIDKx_vl_4",
      "execution_count": null,
      "outputs": []
    },
    {
      "cell_type": "code",
      "execution_count": null,
      "id": "c166f026",
      "metadata": {
        "id": "c166f026",
        "colab": {
          "base_uri": "https://localhost:8080/"
        },
        "outputId": "ae1c1331-e64d-48a5-ca59-b19b0545201d"
      },
      "outputs": [
        {
          "output_type": "stream",
          "name": "stdout",
          "text": [
            "please enter age 1 10\n",
            "please enter age 2 12\n",
            "please enter age 39\n",
            "age 2 is oldest\n"
          ]
        }
      ],
      "source": [
        "age1 = int(input(\"please enter age 1\"))\n",
        "age2 = int(input(\"please enter age 2\"))\n",
        "age3 = int(input(\"please enter age 3\"))\n",
        "if age1 > age2 and age3:\n",
        "    print(\"age 1 is oldest\")\n",
        "elif age2 > age1 and age3:\n",
        "    print(\"age 2 is oldest\")\n",
        "\n",
        "else:\n",
        "    print(\"age 3 is oldest\")"
      ]
    },
    {
      "cell_type": "markdown",
      "id": "b7a31e5f",
      "metadata": {
        "id": "b7a31e5f"
      },
      "source": [
        "\n",
        "## Write a program that asks the user to enter a series of numbers. The program should ask for numbers until the user enters a negative number. Once the user enters a negative number, the program should stop and print the sum of all the positive numbers entered\n",
        "\n",
        "## Example\n",
        "\n",
        "\n",
        "### Enter a number: 5\n",
        "### Enter a number: 8\n",
        "### Enter a number: 12\n",
        "### Enter a number: -2\n",
        "### The sum of the positive numbers is 25."
      ]
    },
    {
      "cell_type": "code",
      "execution_count": null,
      "id": "daf372d4",
      "metadata": {
        "id": "daf372d4",
        "colab": {
          "base_uri": "https://localhost:8080/"
        },
        "outputId": "9d1596e3-2bbb-42ec-926a-72d3f3b59da4"
      },
      "outputs": [
        {
          "output_type": "stream",
          "name": "stdout",
          "text": [
            "please enter a number 13\n",
            "please enter a number 25\n",
            "please enter a number 37\n",
            "please enter a number 4-9\n",
            "sum of the postive numbers 15\n"
          ]
        }
      ],
      "source": [
        "total = 0\n",
        "number1 = int(input(\"please enter a number 1\")) # 3\n",
        "number2 = int(input('please enter a number 2')) # 5\n",
        "number3 = int(input(\"please enter a number 3\")) # 7\n",
        "number4 = int(input(\"please enter a number 4\")) # -9\n",
        "if number1 > 0:\n",
        "    total = total + number1\n",
        "if number2 > 0:\n",
        "    total = total + number2\n",
        "if number3 > 0:\n",
        "    total  = total + number3\n",
        "if number4 > 0:\n",
        "   total = total + number4\n",
        "\n",
        "print(\"sum of the postive numbers\",total)"
      ]
    },
    {
      "cell_type": "markdown",
      "id": "7e526aaa",
      "metadata": {
        "id": "7e526aaa"
      },
      "source": [
        "## Write a program that asks the user to enter their name and age. The program should check if the user's age is greater than or equal to 18. If it is, the program should print a message saying they are eligible to vote. Otherwise, the program should print a message saying they are not eligible to vote due to being underage.\n"
      ]
    },
    {
      "cell_type": "code",
      "execution_count": null,
      "id": "96c50bdf",
      "metadata": {
        "id": "96c50bdf",
        "colab": {
          "base_uri": "https://localhost:8080/"
        },
        "outputId": "bdfa89ff-ffe7-4069-8d56-3f5cc4d56e42"
      },
      "outputs": [
        {
          "output_type": "stream",
          "name": "stdout",
          "text": [
            "please enter your namefarha\n",
            "please enter your age20\n",
            "eligible to vote\n"
          ]
        }
      ],
      "source": [
        "name = str(input(\"please enter your name\"))\n",
        "age = int(input(\"please enter your age\"))\n",
        "if age >= 18:\n",
        "    print(\"eligible to vote\")\n",
        "else:\n",
        "    print(\"not eligible to vote\")"
      ]
    }
  ],
  "metadata": {
    "kernelspec": {
      "display_name": "Python 3 (ipykernel)",
      "language": "python",
      "name": "python3"
    },
    "language_info": {
      "codemirror_mode": {
        "name": "ipython",
        "version": 3
      },
      "file_extension": ".py",
      "mimetype": "text/x-python",
      "name": "python",
      "nbconvert_exporter": "python",
      "pygments_lexer": "ipython3",
      "version": "3.9.12"
    },
    "colab": {
      "provenance": [],
      "include_colab_link": true
    }
  },
  "nbformat": 4,
  "nbformat_minor": 5
}