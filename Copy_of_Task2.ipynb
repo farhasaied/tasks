{
  "nbformat": 4,
  "nbformat_minor": 0,
  "metadata": {
    "colab": {
      "provenance": [],
      "include_colab_link": true
    },
    "kernelspec": {
      "name": "python3",
      "display_name": "Python 3"
    },
    "language_info": {
      "name": "python"
    }
  },
  "cells": [
    {
      "cell_type": "markdown",
      "metadata": {
        "id": "view-in-github",
        "colab_type": "text"
      },
      "source": [
        "<a href=\"https://colab.research.google.com/github/farhasaied/tasks/blob/main/Copy_of_Task2.ipynb\" target=\"_parent\"><img src=\"https://colab.research.google.com/assets/colab-badge.svg\" alt=\"Open In Colab\"/></a>"
      ]
    },
    {
      "cell_type": "markdown",
      "source": [
        "# Ask the user for a number n. Print numbers from 1 to n using a while loop"
      ],
      "metadata": {
        "id": "V33UQJ38VnDR"
      }
    },
    {
      "cell_type": "code",
      "execution_count": null,
      "metadata": {
        "id": "m9rRlMN7VkoR",
        "outputId": "5f322428-077b-4be4-d52e-f2db0657ce54",
        "colab": {
          "base_uri": "https://localhost:8080/"
        }
      },
      "outputs": [
        {
          "output_type": "stream",
          "name": "stdout",
          "text": [
            "enter a number5\n",
            "1\n",
            "2\n",
            "3\n",
            "4\n",
            "5\n"
          ]
        }
      ],
      "source": [
        "num = int(input(\"enter a number\"))\n",
        "n = 1\n",
        "while n <= num:\n",
        "  print(n)\n",
        "  n += 1\n"
      ]
    },
    {
      "cell_type": "markdown",
      "source": [
        "# Ask the user to enter a number n, then calculate and print the sum of numbers from 1 to n using a for loop."
      ],
      "metadata": {
        "id": "tSuuO3v9WI_9"
      }
    },
    {
      "cell_type": "code",
      "source": [
        "num = int(input(\"enter a number\"))\n",
        "sum = 0\n",
        "for i in range (1 + num):\n",
        "  sum +=i\n",
        "  print(sum)"
      ],
      "metadata": {
        "id": "qd5NM06zWJfa",
        "outputId": "4671ce97-8220-481d-c103-98d94dc98152",
        "colab": {
          "base_uri": "https://localhost:8080/"
        }
      },
      "execution_count": null,
      "outputs": [
        {
          "output_type": "stream",
          "name": "stdout",
          "text": [
            "enter a number3\n",
            "0\n",
            "1\n",
            "3\n",
            "6\n"
          ]
        }
      ]
    },
    {
      "cell_type": "markdown",
      "source": [
        "# Ask the user for a number and print its multiplication table up to 10 using a for loop."
      ],
      "metadata": {
        "id": "MkVpz9xUWQIn"
      }
    },
    {
      "cell_type": "code",
      "source": [
        "number = int(input(\"enter a number\"))\n",
        "for i in range (1 , 11):\n",
        " print(number * i)"
      ],
      "metadata": {
        "id": "SkXMJOOzWQ_Z",
        "outputId": "8fb8b3ef-a7a5-4828-cb8e-b8f4724485cc",
        "colab": {
          "base_uri": "https://localhost:8080/"
        }
      },
      "execution_count": null,
      "outputs": [
        {
          "output_type": "stream",
          "name": "stdout",
          "text": [
            "enter a number5\n",
            "5\n",
            "10\n",
            "15\n",
            "20\n",
            "25\n",
            "30\n",
            "35\n",
            "40\n",
            "45\n",
            "50\n"
          ]
        }
      ]
    },
    {
      "cell_type": "markdown",
      "source": [
        "# Use a for loop to print all even numbers between 1 and 50."
      ],
      "metadata": {
        "id": "d28atHDsWVtK"
      }
    },
    {
      "cell_type": "code",
      "source": [
        "for i in range (1 , 51):\n",
        "  if i % 2==0:\n",
        "    print(i)"
      ],
      "metadata": {
        "id": "mzScfu3AWWWi",
        "outputId": "cde224e7-d011-4b74-93d9-14cfd55bcf4c",
        "colab": {
          "base_uri": "https://localhost:8080/"
        }
      },
      "execution_count": null,
      "outputs": [
        {
          "output_type": "stream",
          "name": "stdout",
          "text": [
            "2\n",
            "4\n",
            "6\n",
            "8\n",
            "10\n",
            "12\n",
            "14\n",
            "16\n",
            "18\n",
            "20\n",
            "22\n",
            "24\n",
            "26\n",
            "28\n",
            "30\n",
            "32\n",
            "34\n",
            "36\n",
            "38\n",
            "40\n",
            "42\n",
            "44\n",
            "46\n",
            "48\n",
            "50\n"
          ]
        }
      ]
    },
    {
      "cell_type": "markdown",
      "source": [
        "#Create a program that asks the user to guess a secret number (e.g., 7).\n",
        "#Keep asking until they guess correctly using a while loop."
      ],
      "metadata": {
        "id": "mDoz8OjTWciv"
      }
    },
    {
      "cell_type": "code",
      "source": [
        "num = int(input(\"enter a number\"))\n",
        "while num !=7:\n",
        "   print(\"try again\")\n",
        "   num = int(input(\"enter a number\"))\n",
        "print(\"correctly\")"
      ],
      "metadata": {
        "id": "qd2K5SfnWeIc",
        "collapsed": true,
        "outputId": "8f2ebb29-1634-46a7-fa18-f3b115baeb50",
        "colab": {
          "base_uri": "https://localhost:8080/"
        }
      },
      "execution_count": null,
      "outputs": [
        {
          "output_type": "stream",
          "name": "stdout",
          "text": [
            "enter a number8\n",
            "try again\n",
            "enter a number10\n",
            "try again\n",
            "enter a number12\n",
            "try again\n",
            "enter a number3\n",
            "try again\n",
            "enter a number7\n",
            "correctly\n"
          ]
        }
      ]
    },
    {
      "cell_type": "markdown",
      "source": [
        "# Ask the user to enter a number, then count down from that number to 0 using a while loop."
      ],
      "metadata": {
        "id": "LZ6mLi5xWg9h"
      }
    },
    {
      "cell_type": "code",
      "source": [
        "num = int(input(\"enter a number\"))\n",
        "while num >= 0:\n",
        "  print(num)\n",
        "  num -=1"
      ],
      "metadata": {
        "id": "egxVWTTXWn1i",
        "outputId": "4b84cbde-a06a-4c08-cf4e-9a256feadfa3",
        "colab": {
          "base_uri": "https://localhost:8080/"
        }
      },
      "execution_count": null,
      "outputs": [
        {
          "output_type": "stream",
          "name": "stdout",
          "text": [
            "enter a number5\n",
            "5\n",
            "4\n",
            "3\n",
            "2\n",
            "1\n",
            "0\n"
          ]
        }
      ]
    },
    {
      "cell_type": "markdown",
      "source": [
        "# Write a program that prints following shape"
      ],
      "metadata": {
        "id": "T7asV77zWoXz"
      }
    },
    {
      "cell_type": "markdown",
      "source": [
        "```\n",
        "    *\n",
        "   ***\n",
        "  *****\n",
        " *******\n",
        "*********\n",
        " *******\n",
        "  *****\n",
        "   ***\n",
        "    *\n",
        "```"
      ],
      "metadata": {
        "id": "0Aci60GPW41g"
      }
    },
    {
      "cell_type": "code",
      "source": [],
      "metadata": {
        "id": "7Qbjgy2oW1fR",
        "colab": {
          "base_uri": "https://localhost:8080/",
          "height": 106
        },
        "collapsed": true,
        "outputId": "df6b157d-d190-45e6-cd12-86691ee5ac96"
      },
      "execution_count": null,
      "outputs": [
        {
          "output_type": "error",
          "ename": "SyntaxError",
          "evalue": "invalid syntax (ipython-input-3-375713712.py, line 1)",
          "traceback": [
            "\u001b[0;36m  File \u001b[0;32m\"/tmp/ipython-input-3-375713712.py\"\u001b[0;36m, line \u001b[0;32m1\u001b[0m\n\u001b[0;31m    SyntaxError: invalid syntax\u001b[0m\n\u001b[0m                         ^\u001b[0m\n\u001b[0;31mSyntaxError\u001b[0m\u001b[0;31m:\u001b[0m invalid syntax\n"
          ]
        }
      ]
    }
  ]
}